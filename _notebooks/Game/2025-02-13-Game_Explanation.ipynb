{
 "cells": [
  {
   "cell_type": "raw",
   "metadata": {
    "vscode": {
     "languageId": "raw"
    }
   },
   "source": [
    "---\n",
    "layout: post\n",
    "title: Adventure Game\n",
    "description: Adventure Game!\n",
    "type: issues\n",
    "comments: true\n",
    "---"
   ]
  },
  {
   "cell_type": "markdown",
   "metadata": {},
   "source": [
    "# Plan for the Game\n",
    "For this project, we want to create a game with two levels. It will be a game that has strong themes of different time periods and eras in human history. For our first level, we would like it to take place in Ancient Egypt. Our second level takes place in Victorian London. Both levels will have the same objectives: the player will encounter a guard of some sorts that will quiz them on the different aspects of the time period. The player will then have to escape an animal (a cat for Ancient Egypt, the dog for Victorian London). Once they successfully escape the animal, they beat the level. \n",
    "\n",
    "### What we've already done\n",
    "We have created a flow chart that explains most of the javascript aspects to the game and explains what all of the in-game objects do and look like. Additionally, we've created pixel art for all the sprites and backgrounds. We are currently in the process of editing the adventureGame files by changing variables and adding the mechanics/physics that we need for our game.\n",
    "\n",
    "### What we're going to do\n",
    "We are going to add our images in place of the images already in the js files for Mr. Mortensen's adventure game. Then, we are going to add the key functions such as the function that allows the player to be chased by the animal. "
   ]
  },
  {
   "cell_type": "markdown",
   "metadata": {},
   "source": [
    "## Flow Chart\n",
    "<img src=\"https://github.com/user-attachments/assets/adef20bf-1c94-48e7-a88b-6ee2121a7837\" style = \"width:400px;\">"
   ]
  },
  {
   "cell_type": "markdown",
   "metadata": {},
   "source": [
    "# Game Structure Overview\n",
    "## 1. GameEnv (Game Environment)\n",
    "Defines the boundaries and overall environment settings.\n",
    "### Attributes:\n",
    "- maxWidth, maxHeight: Defines the game world size.\n",
    "### Functions:\n",
    "- setTop(), setBottom(): Set game boundaries.\n",
    "- setGameEnv(): Initializes the game environment.\n",
    "---\n",
    "## 2. GameObj (Game Object)\n",
    "A base class for all game objects, handling positioning and collisions.\n",
    "### Attributes:\n",
    "- static [] Game Objects: Stores all game objects.\n",
    "- x, y: Position of the object.\n",
    "- image: Image reference for rendering.\n",
    "- canvas, ctx: References to the HTML canvas.\n",
    "### Functions:\n",
    "- setX(x), setY(y): Updates object position.\n",
    "- isCollision(): Checks for collisions.\n",
    "- collisionActions(): Defines collision behaviors.\n",
    "---\n",
    "## 3. Characters\n",
    "A base class for all characters.\n",
    "### Attributes:\n",
    "- static [] Character Objects: Stores character instances.\n",
    "- spriteWidth, spriteHeight: Sprite dimensions.\n",
    "- frameX, frameY: Sprite animation frames.\n",
    "### Functions:\n",
    "- update(): Handles movement and interactions.\n",
    "- draw(): Renders the character.\n",
    "- size(): Defines character dimensions.\n",
    "---\n",
    "## 4. Targets\n",
    "A base class for objects the player interacts with.\n",
    "### Functions:\n",
    "- update(): Updates target behavior.\n",
    "- draw(): Renders the target.\n",
    "- size(): Defines target dimensions.\n",
    "---\n",
    "## 5. Background\n",
    "Defines the game's visual setting.\n",
    "### Functions:\n",
    "- update(): Updates background properties.\n",
    "- size(): Sets the background dimensions.\n",
    "- draw(): Renders the background."
   ]
  },
  {
   "cell_type": "markdown",
   "metadata": {},
   "source": [
    "## Rachit Flower\n",
    "<img src=\"https://github.com/user-attachments/assets/b9b9f5cb-0fa9-4885-ab81-b2e0e1aefc9c\" style=\"width:200px;\">"
   ]
  },
  {
   "cell_type": "markdown",
   "metadata": {},
   "source": [
    "## Rachit Target\n",
    "<img src =\"https://github.com/user-attachments/assets/4742a372-75dd-4362-b257-f7fcd459d102\" style = \"width:200px;\">"
   ]
  },
  {
   "cell_type": "markdown",
   "metadata": {},
   "source": [
    "## Main Background\n",
    "<img src =\"https://github.com/user-attachments/assets/4ae3d238-7d96-47da-905e-afbc97c7271b\" style = \"width:300px;\">"
   ]
  },
  {
   "cell_type": "markdown",
   "metadata": {},
   "source": [
    "## Obese Rachit\n",
    "<img src =\"https://github.com/user-attachments/assets/0e0892d9-7516-4fb5-aee6-99eecd946c68\" style = \"width:200px;\">"
   ]
  },
  {
   "cell_type": "markdown",
   "metadata": {},
   "source": [
    "## Rat Boss\n",
    "<img src =\"https://github.com/user-attachments/assets/086cb2dd-19e9-47e9-89e9-fe36bfb28d47\" style = \"width:200px;\">"
   ]
  }
 ],
 "metadata": {
  "language_info": {
   "name": "python"
  }
 },
 "nbformat": 4,
 "nbformat_minor": 2
}
