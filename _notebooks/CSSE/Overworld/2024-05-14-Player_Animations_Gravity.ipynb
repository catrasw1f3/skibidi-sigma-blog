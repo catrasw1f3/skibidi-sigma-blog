{
 "cells": [
  {
   "cell_type": "raw",
   "id": "40cb6ba3",
   "metadata": {
    "vscode": {
     "languageId": "raw"
    }
   },
   "source": [
    "---\n",
    "layout: post\n",
    "title: Player Animations and Gravity\n",
    "description: Lesson on player gravity, animations, and controls.\n",
    "categories: [Overworld Lessons]\n",
    "permalink: /overworld/PlayerGravity1\n",
    "---"
   ]
  },
  {
   "cell_type": "markdown",
   "id": "ee323b1b",
   "metadata": {},
   "source": [
    "# Lesson 1"
   ]
  },
  {
   "cell_type": "markdown",
   "id": "79ae1b2c",
   "metadata": {},
   "source": [
    "## Gravity\n",
    "\n",
    "Gravity is one of the forces that acts upon the universe. So let's add it to our adventure game. Adding gravity will make it more realistic and more difficult since you no longer will be able to glide across the screen\n",
    "\n",
    "To add gravity to adventure game, we first have to make some chanegs to `GameEnv.js` and `Character.js`."
   ]
  },
  {
   "cell_type": "code",
   "execution_count": null,
   "id": "909a17a6",
   "metadata": {
    "vscode": {
     "languageId": "javascript"
    }
   },
   "outputs": [],
   "source": [
    "%%js \n",
    "//the value for gravity is stored in GameEnv\n",
    "//gravity is enabled by default in the constructor\n",
    "// This code is in Charcter.js\n",
    "\n",
    "updateY() {\n",
    "    if (this.bottom > this.y && this.gravityEnabled) {\n",
    "        this.y += GameEnv.gravity;\n",
    "        this.onTop = false;\n",
    "    } else {\n",
    "        this.onTop = true;\n",
    "    }\n",
    "}"
   ]
  },
  {
   "cell_type": "markdown",
   "id": "8762d041",
   "metadata": {},
   "source": [
    "## Game-In-Game\n",
    "\n",
    "A big part about our future aspirations for the game is that we want to add the platfromer into the game to connect it back to the RPG. This will help create a quest completion aspect to the RPG to make the game more imersive. It's important to have a way to do this either by and NPC or a button key press to move the player onto the next game. \n",
    "\n"
   ]
  },
  {
   "cell_type": "code",
   "execution_count": null,
   "id": "7280869a",
   "metadata": {
    "vscode": {
     "languageId": "javascript"
    }
   },
   "outputs": [],
   "source": [
    "%%js\n",
    "// Function to redirect to platformer.html\n",
    "      handleNpcInteraction: function(npc) {\n",
    "        if (npc.id === 'Unc' && this.checkCollisionWithNpc(npc)) {\n",
    "          npc.interact();\n",
    "          setTimeout(() => {\n",
    "            window.location.href = 'platformer.html';\n",
    "          }, 3000); // Delay redirect to let dialog finish\n",
    "        }\n",
    "      }\n",
    "    "
   ]
  },
  {
   "cell_type": "code",
   "execution_count": null,
   "id": "33748289",
   "metadata": {
    "vscode": {
     "languageId": "javascript"
    }
   },
   "outputs": [],
   "source": [
    "%%js \n",
    "// Function to handle the exit key\n",
    "handleExitKey(event) {\n",
    "        if (event.key === 'Escape') {\n",
    "            if (this.currentLevel) {\n",
    "                this.currentLevel.continue = false;\n",
    "            }\n",
    "        }\n",
    "    }"
   ]
  },
  {
   "cell_type": "markdown",
   "id": "723f6c35",
   "metadata": {},
   "source": [
    "<hr> "
   ]
  },
  {
   "cell_type": "markdown",
   "id": "73b543ae",
   "metadata": {},
   "source": [
    "# -- Hacks -- \n",
    "\n",
    "### 1) Make a NPC or a function that moves the player to a platformer game or another RPG level\n",
    "\n",
    "### 2) In your Platformer game add gravity to the player. \n"
   ]
  },
  {
   "cell_type": "markdown",
   "id": "42836f17",
   "metadata": {},
   "source": [
    "## Add this JS file as well\n",
    "\n",
    "```js \n",
    "const canvas = document.getElementById(\"gameCanvas\");\n",
    "const ctx = canvas.getContext(\"2d\");\n",
    "\n",
    "// HACKS Game GRAVITY SETTINGS go here  \n",
    "\n",
    "\n",
    "// Player object\n",
    "const player = {\n",
    "  x: 100,\n",
    "  y: 0,\n",
    "  width: 30,\n",
    "  height: 50,\n",
    "  velocityX: 0,\n",
    "  velocityY: 0,\n",
    "  speed: 4,\n",
    "  jumpPower: -12,\n",
    "  onGround: false\n",
    "};\n",
    "\n",
    "// Platform data\n",
    "const platforms = [\n",
    "  { x: 0, y: 350, width: 800, height: 50 },\n",
    "  { x: 200, y: 280, width: 100, height: 10 },\n",
    "  { x: 400, y: 220, width: 150, height: 10 },\n",
    "  { x: 600, y: 150, width: 100, height: 10 }\n",
    "];\n",
    "\n",
    "// Key tracking\n",
    "const keys = {};\n",
    "\n",
    "document.addEventListener(\"keydown\", e => keys[e.code] = true);\n",
    "document.addEventListener(\"keyup\", e => keys[e.code] = false);\n",
    "\n",
    "// Game loop\n",
    "function update() {\n",
    "  // Horizontal movement\n",
    "  if (keys[\"ArrowRight\"] || keys[\"KeyD\"]) player.velocityX = player.speed;\n",
    "  else if (keys[\"ArrowLeft\"] || keys[\"KeyA\"]) player.velocityX = -player.speed;\n",
    "  else player.velocityX *= friction;\n",
    "\n",
    "  // Jumping\n",
    "  if ((keys[\"ArrowUp\"] || keys[\"KeyW\"] || keys[\"Space\"]) && player.onGround) {\n",
    "    player.velocityY = player.jumpPower;\n",
    "    player.onGround = false;\n",
    "  }\n",
    "\n",
    "  // HACKS IMPORTANT Apply gravity here function here\n",
    "\n",
    "\n",
    "  // Update player position\n",
    "  player.x += player.velocityX;\n",
    "  player.y += player.velocityY;\n",
    "\n",
    "  // Collision detection\n",
    "  player.onGround = false;\n",
    "  platforms.forEach(platform => {\n",
    "    if (\n",
    "      player.x < platform.x + platform.width &&\n",
    "      player.x + player.width > platform.x &&\n",
    "      player.y < platform.y + platform.height &&\n",
    "      player.y + player.height > platform.y\n",
    "    ) {\n",
    "      if (player.velocityY > 0) {\n",
    "        player.y = platform.y - player.height;\n",
    "        player.velocityY = 0;\n",
    "        player.onGround = true;\n",
    "      }\n",
    "    }\n",
    "  });\n",
    "\n",
    "  // Keep player inside canvas\n",
    "  if (player.x < 0) player.x = 0;\n",
    "  if (player.x + player.width > canvas.width) player.x = canvas.width - player.width;\n",
    "\n",
    "  draw();\n",
    "  requestAnimationFrame(update);\n",
    "}\n",
    "\n",
    "function draw() {\n",
    "  ctx.clearRect(0, 0, canvas.width, canvas.height);\n",
    "\n",
    "  // Draw player\n",
    "  ctx.fillStyle = \"red\";\n",
    "  ctx.fillRect(player.x, player.y, player.width, player.height);\n",
    "\n",
    "  \n",
    "}\n",
    "\n",
    "// Start the game\n",
    "update();\n",
    "```"
   ]
  }
 ],
 "metadata": {
  "language_info": {
   "name": "python"
  }
 },
 "nbformat": 4,
 "nbformat_minor": 5
}
