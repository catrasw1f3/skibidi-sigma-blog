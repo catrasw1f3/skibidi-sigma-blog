{
 "cells": [
  {
   "cell_type": "code",
   "execution_count": null,
   "id": "8de86f8e",
   "metadata": {
    "vscode": {
     "languageId": "yaml"
    }
   },
   "outputs": [],
   "source": [
    "---\n",
    "toc: false\n",
    "layout: tailwindPost\n",
    "infoGraph: enemyAnimation \n",
    "categories: [Overworld Lessons]\n",
    "title: Enemy Animation \n",
    "description: \"Lesson for enemy 'animation' in a game.\"\n",
    "type: ccc\n",
    "breadcrumb: true\n",
    "permalink: /overworld/EnemyAnimation1\n",
    "sticky_rank: 2\n",
    "  ---"
   ]
  },
  {
   "cell_type": "markdown",
   "id": "fe910cb4",
   "metadata": {},
   "source": [
    "<!-- Infographic - this depends on page.infoGraph frontmatter being set -->\n",
    "{%- include tailwind/infograph.html -%}"
   ]
  },
  {
   "cell_type": "markdown",
   "id": "28250944",
   "metadata": {},
   "source": [
    "## Lesson 2: Enemy Animation \n",
    "\n",
    "This lesson will be based on your ability to create creative animations as our first lesson. If you recall, we created an animation that happens to the player when it collides with the enemy Creeper! Now, instead of working on an animation for the player, the enemy is the one that will have an animation instead. \n",
    "\n",
    "#### Why it would be beneficial to add an animation like this into your game ?\n",
    "\n",
    "We want to make our games as interesting and immersive as possible, meaning adding animations and features into our game that will make it more interesting and engaging to play. By adding an animation to the enemy, it makes it seem more intimidating than a goofy creature bouncing around your screen.\n",
    "\n",
    "Now, we will teach some code that we used in our own demo to give you an idea of what to do. These will be done in blocks."
   ]
  },
  {
   "cell_type": "markdown",
   "id": "2116cf35",
   "metadata": {},
   "source": [
    "### Code Block One \n",
    "\n",
    "```js \n",
    "const spriteElement = document.getElementById(this.id);\n",
    "        if (spriteElement) {\n",
    "          spriteElement.style.transform = this.direction.x === -1 ? \"scaleX(-1)\" : \"scaleX(1)\";\n",
    "          spriteElement.style.left = this.INIT_POSITION.x + 'px';\n",
    "          spriteElement.style.top = this.INIT_POSITION.y + 'px';\n",
    "        }\n",
    " ```\n",
    "\n",
    "``document.getElementById(this.id)``: This retrieves an HTML element using its id. The this.id should be a property of the object.\n",
    "\n",
    "``if (spriteElement)``: This checks if the spriteElement exists in the DOM ( if the element with the given ID is found ). \n",
    "\n",
    "**DOM: Document Object Model. Example:**\n",
    "```js\n",
    "<html>\n",
    "  <head>\n",
    "    <title>My Page</title>\n",
    "  </head>\n",
    "  <body>\n",
    "    <h1>Welcome to My Page</h1>\n",
    "    <p>This is a paragraph.</p>\n",
    "  </body>\n",
    "</html>\n",
    "```\n",
    "\n",
    "``spriteElement.style.transform = this.direction.x === -1 ? \"scaleX(-1)\" : \"scaleX(1)\"``: ( Explained in lesson one )\n",
    "\n",
    "``spriteElement.style.left = this.INIT_POSITION.x + 'px'`` and ``spriteElement.style.top = this.INIT_POSITION.y + 'px'``: These set the left and top properties of the sprite, putting it on the screen based on the INIT_POSITION."
   ]
  },
  {
   "cell_type": "markdown",
   "id": "0f0fe709",
   "metadata": {},
   "source": [
    "### Code Block Two \n",
    "\n",
    "```js\n",
    "isAnimating: false, // this codes stops from multiple animations playing at once. \n",
    "playAnimation: function () {\n",
    "  if (this.isAnimating) return; //if the animation is already playing, the playAnimation will not do anything and end early \n",
    "  this.isAnimating = true; // this starts the animation, it then sets it to true to show that the animation is playing \n",
    "\n",
    "  const spriteElement = document.getElementById(this.id); // retrieves HTML element again \n",
    "  if (!spriteElement) return; // if the element doesnt exist, then this makes the function exit early \n",
    "```\n",
    "\n",
    "After this, you can then create the code for your animation. You can make the animation be fading in and out like our own, or you can make it completely different. \n",
    "\n",
    "Then, the last piece of code for this block will remove all any animation that is made and the enemy should return back to normal. **this.isAnimating** should be set to false during this process because the animation is no longer playing, meaning another animation can now play. "
   ]
  },
  {
   "cell_type": "markdown",
   "id": "b72c6977",
   "metadata": {},
   "source": [
    "### Code Block Three\n",
    "\n",
    "```js\n",
    "setInterval(() => {\n",
    "```\n",
    "\n",
    "Now, the ``setInterval()`` function will be used in order for there to be a certain amount of time that passes between each animation. In the end, there should be a moving enemy that plays an animation every now and then, but continues to move and bounce off of the confined space from last lesson."
   ]
  },
  {
   "cell_type": "markdown",
   "id": "be45f773",
   "metadata": {},
   "source": [
    "## Summary \n",
    "\n",
    "**Block One**: Ensures that the animation doesn't break and overload, also includes the code for flipping the sprite when collided with a wall. \n",
    "\n",
    "**Block Two**: Creating the actual animation, starting the starting animation then the process of ending it. \n",
    "\n",
    "**Block Three**: Handles the Creeper moving around and updating its position. It also handles the time passed between each animation.\n",
    "\n",
    "\n",
    "Overall, have fun with your animations, get creative! Don't forget to add the sound if you want those extra points :) "
   ]
  }
 ],
 "metadata": {
  "language_info": {
   "name": "python"
  }
 },
 "nbformat": 4,
 "nbformat_minor": 5
}
