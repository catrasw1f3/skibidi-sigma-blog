{
 "cells": [
  {
   "cell_type": "code",
   "execution_count": null,
   "id": "146d8e7a",
   "metadata": {
    "vscode": {
     "languageId": "yaml"
    }
   },
   "outputs": [],
   "source": [
    "---\n",
    "toc: false\n",
    "layout: tailwindPost\n",
    "infoGraph: enemyHacks\n",
    "categories: [Overworld Lessons]\n",
    "title: Enemy Animation + Enemy Movement Hacks\n",
    "description: \"Hacks for Enemy Animation and Enemy Movement in Adventure Game.\"\n",
    "type: ccc\n",
    "breadcrumb: true\n",
    "permalink: /overworld/EnemyHacks\n",
    "sticky_rank: 2\n",
    "---"
   ]
  },
  {
   "cell_type": "markdown",
   "id": "beb02c01",
   "metadata": {},
   "source": [
    "<!-- Infographic - this depends on page.infoGraph frontmatter being set -->\n",
    "{%- include tailwind/infograph.html -%}"
   ]
  }
 ],
 "metadata": {
  "language_info": {
   "name": "python"
  }
 },
 "nbformat": 4,
 "nbformat_minor": 5
}
