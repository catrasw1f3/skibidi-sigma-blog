{
 "cells": [
  {
   "cell_type": "code",
   "execution_count": null,
   "id": "ef75bdf7",
   "metadata": {
    "vscode": {
     "languageId": "yaml"
    }
   },
   "outputs": [],
   "source": [
    "---\n",
    "toc: false\n",
    "layout: tailwindPost\n",
    "infoGraph: enemyMovement \n",
    "categories: [Overworld Lessons]\n",
    "title: Enemy Movement \n",
    "description: \"Lesson for enemy movement in a game.\"\n",
    "type: ccc\n",
    "breadcrumb: true\n",
    "permalink: /overworld/EnemyMovement1\n",
    "sticky_rank: 2\n",
    "---"
   ]
  },
  {
   "cell_type": "markdown",
   "id": "87fc778e",
   "metadata": {},
   "source": [
    "<!-- Infographic - this depends on page.infoGraph frontmatter being set -->\n",
    "{%- include tailwind/infograph.html -%}"
   ]
  },
  {
   "cell_type": "markdown",
   "id": "d98d6751",
   "metadata": {},
   "source": [
    "# Lesson 1: Enemy Movement\n",
    "\n",
    "Having enemy movement in games is a fun way to add life into your game. It allows for players to be more immersed in the game's storyline, which is important for us since we are making a game with both RPG and platformer game aspects. It also allows for the game to be more challenging for the player, saving them from a boring and repetitve experience. \n",
    "\n",
    "There are many different uses for enemy movement, such as creating an obstacle for the player to pass through, giving life to your characters, creating suspense, and more. \n",
    "\n",
    "### Making an Enemy Move in a Set Space\n",
    "\n",
    "For our level, we wanted to create a set space in which our enemy will move in. To do this, we have to first create the boundaries of the area, so we created an object that defines all the boundaries of the area we wanted our enemy to stay in (minimum nd maximum values of the x and y position of the enemy), which we placed after our enemy's data.\n",
    "\n",
    "\n",
    "Next, we define both the speed and the starting direction, as well as the function that allows our enemy to move. We added an `updatePosition` function that moves the object by adding speed multiplied by direction to `INIT_POSITION`: if moving right, x increases and if moving down, y increases. Having both of these allows for the creeper to move diagonally, creating the same effect as a screensaver of a logo bouncing around the screen. \n",
    "\n",
    "Then, we added boundary checks for the enemy. These are if-statements that check if the enemy is someplace it shouldn't be, utilizing the boundaries we defined earlier. For example:\n",
    "\n",
    "```js\n",
    "if (this.INIT_POSITION.x <= this.walkingArea.xMin) { //bounces up\n",
    "    this.INIT_POSITION.x = this.walkingArea.xMin;\n",
    "    this.direction.x = 1; \n",
    "  }\n",
    "```\n",
    "This statement checks if the x position of the enemy is greater than the minimum x value we assigned for the boundary. If it is, then it makes the x direction of the enemy = 1, moving it right. If the direction = 1, that means that either the x or y value of the position will increase, moving it either right or down. If it is -1, it does the opposite. \n",
    "\n",
    "Then, in order for our enemy to not be walking backwards half the time, we added another if-statement to flip the sprite image horizontally when the direction changes. Basically, it checks the value of `this.direction.x`, or the horizontal direction your enemy is moving in. If the direction is = -1, then it keeps the sprite image at its normal state, `scaleX(1)`. If not, then it mirrors the sprite image horizontally, making the enemy face forward even after it changes direction. \n",
    "\n",
    "\n",
    "Finally, we use `setInterval()` to update the position of the enemy.\n"
   ]
  }
 ],
 "metadata": {
  "language_info": {
   "name": "python"
  }
 },
 "nbformat": 4,
 "nbformat_minor": 5
}
