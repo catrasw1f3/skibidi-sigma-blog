{
 "cells": [
  {
   "cell_type": "raw",
   "metadata": {
    "vscode": {
     "languageId": "raw"
    }
   },
   "source": [
    "---\n",
    "layout: post\n",
    "title: Nested Conditionals, Homework\n",
    "description:  Homework for nested conditionals\n",
    "type: issues \n",
    "comments: true\n",
    "---"
   ]
  },
  {
   "cell_type": "markdown",
   "metadata": {},
   "source": [
    "### Homework Objectives\n",
    "\n",
    "You and your friend want to do different things at the amusement park. To decide, you do a coin flip. Heads means that you get to choose where to go and tails means that your friend gets to choose. If you go on a ride, be sure to check if you are the right height and have enough tickets, and if you go to a food stand, make sure that you have enough money and that the food is in stock. Be creative, and make sure to use nested conditionals!"
   ]
  },
  {
   "cell_type": "markdown",
   "metadata": {},
   "source": [
    "### Instructions\n",
    "\n",
    "1) Create a JavaScript file (Ex. insertName.js)\n",
    "\n",
    "2) Plan out what you will be doing and make variables for the necessary things. There will be a coin flip, so make a variable for that. If there are rides, make a value for the amount of tickets the person has and what height they are. If they go to a food stand, you can make a variable for the amount of money that you have and if the food is in stock.\n",
    "\n",
    "3) Use Math.random() for the coin flip. This generates a number between 0 and 1, so then you multiply this value by 2 and put it inside Math.floor() to round down and get either 0 or 1. Make this the coin flip variable.\n",
    "\n",
    "4) Use an if statement to check what the result of the coin flip was and use console.log to print out a statement to see who won or lost the coin flip. Along with that, print out where they are going next.\n",
    "\n",
    "5) Use more if statements inside of if statements to check if the person can do what they want to do. (Are they tall enough, do they have enough money, etc.)\n",
    "\n",
    "6) After all the checks, print out a result of what happened. If you get stuck, you can look at the examples in the popcorn hacks. Please don't copy and paste, though! \n"
   ]
  },
  {
   "cell_type": "code",
   "execution_count": null,
   "metadata": {
    "vscode": {
     "languageId": "javascript"
    }
   },
   "outputs": [],
   "source": [
    "let tickets = 15;\n",
    "let money = 35;\n",
    "let isTallEnough = true;\n",
    "\n",
    "console.log(\"You and your friend were at the amusement park when you couldn't decide where to go next. To decide, you do a coin flip.\");\n",
    "console.log(\"Heads means you decide, and you wanna go on one more ride. Tails means your friend decides, and they're pretty hungry.\");\n",
    "\n",
    "// Setting up the variables:\n",
    "let coinFlip = Math.floor(Math.random() * 2); // 0 = heads, 1 = tails\n",
    "let ride = Math.floor(Math.random() * 4); // 0 = carousel, 1 = roller coaster, 2 = bumper cars, 3 = ferris wheel\n",
    "let foodStand = Math.floor(Math.random() * 2); // 0 = cotton candy, 1 = pretzels\n",
    "\n",
    "if (coinFlip === 0) {\n",
    "    console.log(\"You flipped heads! That means you get to choose where to go next. Which ride will you pick?\");\n",
    "    // if you chose to go on a carousel\n",
    "    if (ride === 0) {\n",
    "        console.log(\"A carousel! Horses are fun. There isn't a height restriction, but do you have enough tickets?\");\n",
    "        if (tickets >= 2) {\n",
    "            console.log(\"You have enough tickets. Have fun!\");\n",
    "        } else {\n",
    "            console.log(\"Sorry, not enough tickets. Come back soon!\");\n",
    "        }\n",
    "    } else if (ride === 1) { // if you chose to go on a roller coaster\n",
    "        console.log(\"Oh! A roller coaster, how brave! But are you tall enough? Do you have enough tickets?\");\n",
    "        if (tickets >= 7) {\n",
    "            if (isTallEnough) {\n",
    "                console.log(\"You have enough tickets and you're tall enough. Enjoy the ride, don't die!\");\n",
    "            } else {\n",
    "                console.log(\"You have enough tickets, but you're not tall enough. Better luck next year?\");\n",
    "            }\n",
    "        } else {\n",
    "            console.log(\"Sorry, you don't have enough tickets.\");\n",
    "        }\n",
    "    } else if (ride === 2) { // if you chose to go on the bumper cars\n",
    "        console.log(\"You've chosen to go on the bumper cars! Got enough tickets?\");\n",
    "        if (tickets >= 3) {\n",
    "            console.log(\"You have enough tickets. Enjoy!\");\n",
    "        } else {\n",
    "            console.log(\"Sorry, not enough tickets. Come back soon!\");\n",
    "        }\n",
    "    } else if (ride === 3) { // if you chose to go on the ferris wheel\n",
    "        console.log(\"Ooo, a ferris wheel, how romantic! Do you have enough tickets? It'd be pretty embarrassing if you didn't.\");\n",
    "        if (tickets >= 5) {\n",
    "            console.log(\"You have enough tickets. Have fun on the ride... ;)\");\n",
    "        } else {\n",
    "            console.log(\"Oof. Sorry, but you don't have enough tickets. Come back soon?\");\n",
    "        }\n",
    "    }\n",
    "} else if (coinFlip === 1) { // if you flipped tails\n",
    "    console.log(\"Haha! You flipped tails, which means your friend won the coin flip. Which food stall will they pick?\");\n",
    "    if (foodStand === 0) { // and they wanted to get cotton candy\n",
    "        console.log(\"Your friend decides they could go for some sweet cotton candy. Do you guys have enough money?\");\n",
    "        if (money >= 2) {\n",
    "            console.log(\"You had enough money to fulfill your sweet tooth. Enjoy the sugar!\");\n",
    "        } else {\n",
    "            console.log(\"lol you're so broke you can't even afford 2 dollar cotton candy #getrekt\");\n",
    "        }\n",
    "    } else if (foodStand === 1) { // if they wanted to get pretzels\n",
    "        console.log(\"Warm pretzels seem nice to your friend. Will you have enough money?\");\n",
    "        if (money >= 7) {\n",
    "            console.log(\"You have enough money. Enjoy!\");\n",
    "        } else {\n",
    "            console.log(\"Sorry, not enough money (lolz).\");\n",
    "        }\n",
    "    }\n",
    "}\n"
   ]
  }
 ],
 "metadata": {
  "kernelspec": {
   "display_name": "Python 3",
   "language": "python",
   "name": "python3"
  },
  "language_info": {
   "codemirror_mode": {
    "name": "ipython",
    "version": 3
   },
   "file_extension": ".py",
   "mimetype": "text/x-python",
   "name": "python",
   "nbconvert_exporter": "python",
   "pygments_lexer": "ipython3",
   "version": "3.12.3"
  }
 },
 "nbformat": 4,
 "nbformat_minor": 2
}
