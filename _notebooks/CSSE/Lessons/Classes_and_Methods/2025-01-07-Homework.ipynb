{
 "cells": [
  {
   "cell_type": "raw",
   "metadata": {
    "vscode": {
     "languageId": "raw"
    }
   },
   "source": [
    "---\n",
    "layout: post\n",
    "title: Homework\n",
    "description:  Homework for classes and methods lessons.\n",
    "type: issues \n",
    "comments: true\n",
    "---"
   ]
  },
  {
   "cell_type": "markdown",
   "metadata": {},
   "source": [
    "## Homework "
   ]
  },
  {
   "cell_type": "markdown",
   "metadata": {},
   "source": [
    "## Fridge mini game\n",
    "In the code cell below i would like for you to create a fun fridge mini game where you are looking for a good midnight snack in the dark and you pul out a random food item good or bad.\n",
    "You should be able to complete this Homework activity within 15-20 minutes assuming you fully understand the content presented in our lesson. Alhtough, i do understand that some people may get stuck and need extra time to complete the homework. I think classes and methods are a really good thing to have on a large scale project. Although you could make the game below work with different methoods. Please do not use `chat gpt` I worked hard making this.\n",
    "# What to Do\n",
    "I want you to look through the code and complete the missing pieces and write new code lines to make the game funtion.\n",
    "this is basically a `gambling simulator` but with food.\n",
    "I have porvided \"hints\" in the code.\n",
    "### if you want a challenge dont read the <span style=\"color: green;\">GREEN</span>\n",
    "the green next to code it the real hint if you look at the // above there is description of what you need to do\n",
    "starting from a little above the bottom at the fill in the blank or top is the easiest the `middle is the hardest`.\n",
    "## Grab item\n",
    "I want you to Create a grab item function that will reference the class to randomly pick a food item"
   ]
  },
  {
   "cell_type": "code",
   "execution_count": null,
   "metadata": {
    "vscode": {
     "languageId": "javascript"
    }
   },
   "outputs": [],
   "source": [
    "%%js\n",
    "// Fridge Mini-Game: Enhanced with scores and quality feedback\n",
    "//place class + constructor here\n",
    "class fridge {\n",
    "  constructor() {\n",
    "    // Array of items in the fridge with their scores\n",
    "    this.fridgeItems = [ \"Piece of pizza\", \"chocolate lava cake\", \"moldy sock\", \"apple\", \"mystery jar\", \"slightly expired milk\", \"strawberries\", \"leftover spaghetti\", \"juice\", \"bread\" //Write in ten items found in a fridge and assign them a value of 1-10 (values can repeat)\n",
    "      { name: \"Piece of pizza\", score: 10 }, // Its more fun if it FUNNY\n",
    "      { name: \"chocolate lava cake\", score: 10}\n",
    "      { name: \"moldy sock\", score: 2}\n",
    "      { name: \"apple\", score: 5}\n",
    "      { name: \"mystery jar\", score: 6.9420}\n",
    "      { name: \"slightly expired milk\", score: 4}\n",
    "      { name: \"strawberries\", score: 7}\n",
    "      { name: \"leftover spaghetti\", score: 10}\n",
    "      { name: \"juice\", score: 7}\n",
    "      { name: \"bread\", score: 7}\n",
    "    ];\n",
    "  }\n",
    "  // Method to pick a random item from the fridge\n",
    "  get contents() {\n",
    "    ____ _________ = Math.floor(Math.random() * this.fridgeItems.length);\n",
    "    _____ ________.fridgeItems[randomIndex];\n",
    "  }\n",
    "  // Method to classify the find based on its score\n",
    "  classifyFind(score) { // Create an if -> return -> else -> return loop using youe scoring system to create an output of good, meh, bad\n",
    "    }\n",
    "  // Reference method to start the game (Some fill in the blank)\n",
    "  ___() {\n",
    "    console.log(\"\"); // Write a response\n",
    "    const item = this.grabItem();\n",
    "    console.log(` `); //fill in the () with a phrase on the item and a reference to the item\n",
    "    // Get feedback based on the item's score (unchanged you only need to fix the {} )\n",
    "    // find and fix the misisng pieces\n",
    "    const feedback = this.classifyFind(item.score);\n",
    "    console.log(`It is ${feedback} Score: ${item.score}`);\n",
    "  }\n",
    "}\n",
    "// Create an instance of the game  hint: const.\n",
    "_______ fridgeGame = ____ FridgeGame\n",
    "// Start the game by calling the play method hint .play\n",
    "__________.______() (edited) "
   ]
  }
 ],
 "metadata": {
  "kernelspec": {
   "display_name": "Python 3",
   "language": "python",
   "name": "python3"
  },
  "language_info": {
   "codemirror_mode": {
    "name": "ipython",
    "version": 3
   },
   "file_extension": ".py",
   "mimetype": "text/x-python",
   "name": "python",
   "nbconvert_exporter": "python",
   "pygments_lexer": "ipython3",
   "version": "3.9.6"
  }
 },
 "nbformat": 4,
 "nbformat_minor": 2
}
